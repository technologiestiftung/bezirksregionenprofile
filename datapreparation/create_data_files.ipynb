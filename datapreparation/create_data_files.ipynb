{
 "cells": [
  {
   "cell_type": "code",
   "execution_count": 1,
   "metadata": {},
   "outputs": [],
   "source": [
    "import numpy as np\n",
    "import pandas as pd\n",
    "import os\n",
    "import json"
   ]
  },
  {
   "cell_type": "code",
   "execution_count": 2,
   "metadata": {},
   "outputs": [],
   "source": [
    "# TODO: get dataset with flaeche and dichte for all BZ and BZR"
   ]
  },
  {
   "cell_type": "code",
   "execution_count": 3,
   "metadata": {},
   "outputs": [],
   "source": [
    "# get data from kernindikatoren bz\n",
    "df_ki_bz = pd.read_csv(\"raw_bz_ki.csv\", dtype={'RAUMID6':str, 'BEZ':str, 'PGR':str, 'BZR': str})\n",
    "df_ki_bz.set_index('BEZ', inplace=True)\n",
    "df_ki_bz = df_ki_bz.round(1)\n",
    "\n",
    "# get data from kernindikatoren bzr\n",
    "df_ki = pd.read_excel(\"raw_bzr_ki.xlsx\", sheet_name='2017_BZR', dtype={'RAUMID6':str, 'BEZ':str, 'PRG':str, 'BZR': str})\n",
    "df_ki.set_index('RAUMID6', inplace=True)\n",
    "df_ki = df_ki.round(1)\n",
    "\n",
    "# get ids for lors to reference kernindikatoren\n",
    "df_lor = pd.read_csv(\"preprocessed_lor.csv\", dtype={'bezirk_id':str, 'prg_id':str, 'bzr_id':str, 'pnr_id': str, 'full_id_bzr': str, 'full_id_pnr': str})\n",
    "\n",
    "# only use bezirksregionen from lors\n",
    "df_bzr = df_lor[['full_id_bzr', 'bzr_name', 'bezirk_id', 'bezirk_name']].drop_duplicates()"
   ]
  },
  {
   "cell_type": "code",
   "execution_count": 4,
   "metadata": {},
   "outputs": [
    {
     "data": {
      "text/html": [
       "<div>\n",
       "<style scoped>\n",
       "    .dataframe tbody tr th:only-of-type {\n",
       "        vertical-align: middle;\n",
       "    }\n",
       "\n",
       "    .dataframe tbody tr th {\n",
       "        vertical-align: top;\n",
       "    }\n",
       "\n",
       "    .dataframe thead th {\n",
       "        text-align: right;\n",
       "    }\n",
       "</style>\n",
       "<table border=\"1\" class=\"dataframe\">\n",
       "  <thead>\n",
       "    <tr style=\"text-align: right;\">\n",
       "      <th></th>\n",
       "      <th>full_id_bzr</th>\n",
       "      <th>bzr_name</th>\n",
       "      <th>bezirk_id</th>\n",
       "      <th>bezirk_name</th>\n",
       "    </tr>\n",
       "  </thead>\n",
       "  <tbody>\n",
       "    <tr>\n",
       "      <th>0</th>\n",
       "      <td>010111</td>\n",
       "      <td>Tiergarten Süd</td>\n",
       "      <td>01</td>\n",
       "      <td>Mitte</td>\n",
       "    </tr>\n",
       "    <tr>\n",
       "      <th>5</th>\n",
       "      <td>010112</td>\n",
       "      <td>Regierungsviertel</td>\n",
       "      <td>01</td>\n",
       "      <td>Mitte</td>\n",
       "    </tr>\n",
       "    <tr>\n",
       "      <th>9</th>\n",
       "      <td>010113</td>\n",
       "      <td>Alexanderplatz</td>\n",
       "      <td>01</td>\n",
       "      <td>Mitte</td>\n",
       "    </tr>\n",
       "    <tr>\n",
       "      <th>15</th>\n",
       "      <td>010114</td>\n",
       "      <td>Brunnenstr. Süd</td>\n",
       "      <td>01</td>\n",
       "      <td>Mitte</td>\n",
       "    </tr>\n",
       "    <tr>\n",
       "      <th>17</th>\n",
       "      <td>010221</td>\n",
       "      <td>Moabit West</td>\n",
       "      <td>01</td>\n",
       "      <td>Mitte</td>\n",
       "    </tr>\n",
       "  </tbody>\n",
       "</table>\n",
       "</div>"
      ],
      "text/plain": [
       "   full_id_bzr           bzr_name bezirk_id bezirk_name\n",
       "0       010111     Tiergarten Süd        01       Mitte\n",
       "5       010112  Regierungsviertel        01       Mitte\n",
       "9       010113     Alexanderplatz        01       Mitte\n",
       "15      010114    Brunnenstr. Süd        01       Mitte\n",
       "17      010221        Moabit West        01       Mitte"
      ]
     },
     "execution_count": 4,
     "metadata": {},
     "output_type": "execute_result"
    }
   ],
   "source": [
    "df_bzr.head()"
   ]
  },
  {
   "cell_type": "code",
   "execution_count": 5,
   "metadata": {},
   "outputs": [],
   "source": [
    "# format brz url\n",
    "df_bzr['bzr_url'] = df_bzr.bzr_name.str.lower()\n",
    "df_bzr['bzr_url'] = df_bzr.bzr_url.str.replace('str.', 'strasse', regex=False)\n",
    "# remove everything that is not a letter\n",
    "df_bzr['bzr_url'] = df_bzr.bzr_url.apply(lambda x:\"\".join(c for c in x if c.isalnum()))\n",
    "df_bzr['bzr_url'] = df_bzr.bzr_url.str.replace('ü', 'ue')\n",
    "df_bzr['bzr_url'] = df_bzr.bzr_url.str.replace('ö', 'oe')\n",
    "df_bzr['bzr_url'] = df_bzr.bzr_url.str.replace('ä', 'ae')\n",
    "df_bzr['bzr_url'] = df_bzr.bzr_url.str.replace('ß', 'ss')\n",
    "\n",
    "# format bz url\n",
    "df_bzr['bz_url'] = df_bzr.bezirk_name.str.lower()\n",
    "df_bzr['bz_url'] = df_bzr.bz_url.str.replace('charlottenburg-wilm.', 'charlottenburg-wilmersdorf', regex=False)\n",
    "# remove everything that is not a letter\n",
    "df_bzr['bz_url'] = df_bzr.bz_url.apply(lambda x:\"\".join(c for c in x if c.isalnum()))\n",
    "df_bzr['bz_url'] = df_bzr.bz_url.str.replace('ü', 'ue')\n",
    "df_bzr['bz_url'] = df_bzr.bz_url.str.replace('ö', 'oe')\n",
    "df_bzr['bz_url'] = df_bzr.bz_url.str.replace('ä', 'ae')\n",
    "df_bzr['bz_url'] = df_bzr.bz_url.str.replace('ß', 'ss')\n",
    "df_bzr['bz_url'] = df_bzr.bz_url.str.replace(' - ', '-', regex=False)"
   ]
  },
  {
   "cell_type": "code",
   "execution_count": 6,
   "metadata": {},
   "outputs": [],
   "source": [
    "# add inhabitants count\n",
    "# df_bzr = df_bzr.join(df_ew_bzr)"
   ]
  },
  {
   "cell_type": "code",
   "execution_count": 7,
   "metadata": {},
   "outputs": [],
   "source": [
    "# df for bezirke\n",
    "df_bz = df_bzr[['bezirk_id', 'bezirk_name', 'bz_url']].drop_duplicates()\n",
    "df_bz['bezirk_name'] = df_bz.bezirk_name.str.replace('Charlottenburg-Wilm.', 'Charlottenburg-Wilmersdorf', regex=False)\n",
    "\n",
    "df_bzr.set_index('full_id_bzr', inplace=True)\n",
    "\n",
    "df = df_ki.join(df_bzr)\n",
    "\n",
    "df_bz.set_index('bezirk_id', inplace=True)\n",
    "df_bezirke = df_ki_bz.join(df_bz)"
   ]
  },
  {
   "cell_type": "code",
   "execution_count": 8,
   "metadata": {},
   "outputs": [],
   "source": [
    "def createFolder(directory):\n",
    "    try:\n",
    "        if not os.path.exists(directory):\n",
    "            os.makedirs(directory)\n",
    "    except OSError:\n",
    "        print ('Error: Creating directory. ' +  directory)"
   ]
  },
  {
   "cell_type": "code",
   "execution_count": 9,
   "metadata": {},
   "outputs": [],
   "source": [
    "# create folders and data for bezirk\n",
    "\n",
    "for j in range(df_bezirke.shape[0]):\n",
    "\n",
    "    # create folder for bezirk    \n",
    "    bezirk = df_bezirke.iloc[j]\n",
    "    createFolder(bezirk.bz_url)\n",
    "    \n",
    "    # create csv file template\n",
    "    indikatoren_csv = pd.DataFrame(index={'A4', 'A5', 'A6', 'A7', 'A8', \n",
    "                                      'B1','B2', \n",
    "                                      'C1', 'C2', 'C3', \n",
    "                                      'D1', 'D2', 'D3', 'D4', 'D5', 'D6', \n",
    "                                      'E1', 'E2', 'E3', 'E5', 'E6', 'E8', 'DA1'}).sort_index()\n",
    "    \n",
    "    # create csv for indikatoren\n",
    "    indikatoren_csv = indikatoren_csv.join(df_bezirke.iloc[j].T).reset_index()\n",
    "    indikatoren_csv.columns = ['name', 'wert']\n",
    "    indikatoren_csv['phase_b'] = ''\n",
    "    indikatoren_csv['phase_bz'] = ''\n",
    "    indikatoren_csv.to_csv(bezirk.bz_url + '/' + 'indikatoren.csv', index=False)\n",
    "    \n",
    "    overview_json = {  \n",
    "        'name': bezirk.bezirk_name,\n",
    "        'url': bezirk.bz_url,\n",
    "        'introText':'Lorem ipsum dolor sit amet, consetetur sadipscing elitr, sed diam nonumy eirmod tempor invidunt ut labore et dolore magna aliquyam erat, sed diam voluptua. At vero eos et accusam et justo duo dolores et ea rebum. Stet clita kasd gubergren, no sea takimata sanctus est Lorem ipsum dolor sit amet. Lorem ipsum dolor sit amet, consetetur sadipscing elitr, sed diam nonumy eirmod tempor invidunt ut labore et dolore magna aliquyam erat, sed diam voluptua.',\n",
    "        'facts': {'flaeche': 1, 'einw': str(bezirk.DA1), 'dichte':1}\n",
    "    }\n",
    "    with open(bezirk.bz_url + '/bz-overview.json', 'w', encoding='utf8') as outfile:  \n",
    "        json.dump(overview_json, outfile, ensure_ascii=False)"
   ]
  },
  {
   "cell_type": "code",
   "execution_count": 10,
   "metadata": {},
   "outputs": [],
   "source": [
    "# create folders and data for bezirksregionen\n",
    "\n",
    "for i in range(df.shape[0]):\n",
    "    \n",
    "    # create csv file template\n",
    "    indikatoren_csv = pd.DataFrame(index={'A4', 'A5', 'A6', 'A7', 'A8', \n",
    "                                      'B1','B2', \n",
    "                                      'C1', 'C2', 'C3', \n",
    "                                      'D1', 'D2', 'D3', 'D4', 'D5', 'D6', \n",
    "                                      'E1', 'E2', 'E3', 'E5', 'E6', 'E8', 'DA1'}).sort_index()\n",
    "\n",
    "    # create folder for bezirksregion\n",
    "    folder_name = df.iloc[i].bz_url+ \"/bzr-data/\" + df.iloc[i].bzr_url\n",
    "    createFolder(folder_name)\n",
    "    \n",
    "    # create csv for indikatoren\n",
    "    indikatoren_csv = indikatoren_csv.join(df.iloc[i].T).reset_index()\n",
    "    indikatoren_csv.columns = ['name', 'wert']\n",
    "    indikatoren_csv['phase_b'] = ''\n",
    "    indikatoren_csv['phase_bz'] = ''\n",
    "    indikatoren_csv.to_csv(folder_name + '/' + 'indikatoren.csv', index=False)\n",
    "    \n",
    "    # create data folder\n",
    "    createFolder(folder_name + '/data')\n",
    "    \n",
    "    # create bzr-overview json\n",
    "    overview_json = {  \n",
    "        'name': df.iloc[i].bzr_name,\n",
    "        'url': df.iloc[i].bzr_url,\n",
    "        'introText':'Für diese Bezirksregion liegen leider noch keine Daten vor.',\n",
    "        'facts': {'flaeche': 1, 'einw': str(df.iloc[i].DA1), 'dichte':1}\n",
    "    }\n",
    "    with open(folder_name + '/bzr-overview.json', 'w', encoding='utf8') as outfile:  \n",
    "        json.dump(overview_json, outfile, ensure_ascii=False)\n",
    "        \n",
    "    # create datenblatt.csv\n",
    "    datenblatt_csv = pd.DataFrame()\n",
    "    columnsTitles = ['ref','type','datasource','content']\n",
    "    datenblatt_csv = datenblatt_csv.reindex(columns=columnsTitles)\n",
    "    datenblatt_csv.to_csv(folder_name + '/' + 'datenblatt.csv', index=False)"
   ]
  },
  {
   "cell_type": "code",
   "execution_count": null,
   "metadata": {},
   "outputs": [],
   "source": []
  }
 ],
 "metadata": {
  "kernelspec": {
   "display_name": "Python 3",
   "language": "python",
   "name": "python3"
  },
  "language_info": {
   "codemirror_mode": {
    "name": "ipython",
    "version": 3
   },
   "file_extension": ".py",
   "mimetype": "text/x-python",
   "name": "python",
   "nbconvert_exporter": "python",
   "pygments_lexer": "ipython3",
   "version": "3.7.1"
  }
 },
 "nbformat": 4,
 "nbformat_minor": 2
}
